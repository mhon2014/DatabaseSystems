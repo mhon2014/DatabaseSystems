{
 "cells": [
  {
   "cell_type": "code",
   "execution_count": 1,
   "id": "d6a00348-2588-4a9d-99e3-502a5dcd6ff6",
   "metadata": {
    "tags": []
   },
   "outputs": [],
   "source": [
    "import config\n",
    "import mysql.connector\n",
    "from IPython.display import display, Markdown\n",
    "import csv\n",
    "import os"
   ]
  },
  {
   "cell_type": "markdown",
   "id": "2d4949e9-4cfc-4278-82b9-c55d0b69addb",
   "metadata": {
    "tags": []
   },
   "source": [
    "### Helper Functions"
   ]
  },
  {
   "cell_type": "code",
   "execution_count": 2,
   "id": "d9096325-69af-4c0f-95ab-d4b2242568b8",
   "metadata": {
    "tags": []
   },
   "outputs": [],
   "source": [
    "def batch_execute_ddl(conn, file):\n",
    "    cursor = conn.cursor()\n",
    "    ddl_file = open(file)\n",
    "    sql = ddl_file.read()\n",
    "    \n",
    "    # print(sql)\n",
    "    # multi = True for multple statements\n",
    "    for result in cursor.execute(sql, multi=True):\n",
    "        if result.with_rows:\n",
    "            print(f\"Rows produced: {result.statement}\")\n",
    "            print(result.fetchall())\n",
    "        else: \n",
    "            print(f\"number of rows affected by statement {result.statement}: {result.rowcount}\")\n",
    "    \n",
    "    conn.close()\n",
    "    \n",
    "def insert_data(command, data, conn):\n",
    "    try:\n",
    "        # Connecting to the Database \n",
    "        # print(data)\n",
    "        cursor = conn.cursor()\n",
    "        cursor.executemany(command, data) \n",
    "        \n",
    "        conn.commit()\n",
    "        print(\"Rows affected: \",cursor.rowcount, \"\\nData inserted successfully\")\n",
    "\n",
    "    except mysql.connector.Error as error:\n",
    "        print(error)\n",
    "        conn.rollback()\n",
    "\n",
    "        \n",
    "def fetch(query, conn):\n",
    "    cursor = conn.cursor()\n",
    "    cursor.execute(query)\n",
    "    result = cursor.fetchall()\n",
    "    return result\n",
    "    # print(\"Result:\", result)\n",
    "\n",
    "def update(query, conn):\n",
    "    try:\n",
    "        cursor = conn.cursor()\n",
    "        cursor.execute(query)\n",
    "        result = cursor.fetchall()\n",
    "        # print(\"Result:\", result)111\n",
    "        \n",
    "        conn.commit()\n",
    "    except mysql.connector.Error as error:\n",
    "        print(error)\n",
    "        conn.rollback()\n",
    "        \n",
    "def display(showquery, conn):\n",
    "    table = fetch(showquery, conn)\n",
    "    print(\"{0:20}{1:20}{2:20}\".format(\"branch_name\",\"branch_city\",\"assets\"))\n",
    "    for (branch_name, branch_city, assets) in table:\n",
    "        print(\"{0:20}{1:20}{2:<20}\".format(branch_name, branch_city, assets))\n",
    "        \n",
    "    # fetch(showquery, conn)\n",
    "    \n",
    "    \n",
    "    \n"
   ]
  },
  {
   "cell_type": "code",
   "execution_count": 9,
   "id": "dedb461b-5597-4fa2-85d2-2ac1e5e28d4b",
   "metadata": {
    "collapsed": true,
    "jupyter": {
     "outputs_hidden": true
    },
    "tags": []
   },
   "outputs": [
    {
     "name": "stdout",
     "output_type": "stream",
     "text": [
      "True\n",
      "number of rows affected by statement drop database bankdb: 6\n",
      "number of rows affected by statement create database if not exists bankdb: 1\n",
      "number of rows affected by statement USE bankdb: 0\n",
      "number of rows affected by statement CREATE TABLE branch (\n",
      "  branch_name varchar(255) PRIMARY KEY,\n",
      "  branch_city varchar(255),\n",
      "  assets float\n",
      "): 0\n",
      "number of rows affected by statement CREATE TABLE customer (\n",
      "  customer_name varchar(255) PRIMARY KEY,\n",
      "  customer_street varchar(255),\n",
      "  customer_city varchar(255)\n",
      "): 0\n",
      "number of rows affected by statement CREATE TABLE account (\n",
      "  account_number varchar(255) PRIMARY KEY,\n",
      "  branch_name varchar(255),\n",
      "  balance float CHECK(balance >= 0),\n",
      "  FOREIGN KEY (branch_name) REFERENCES branch (branch_name)\n",
      "): 0\n",
      "number of rows affected by statement CREATE TABLE depositor (\n",
      "  customer_name varchar(255),\n",
      "  account_number varchar(255),\n",
      "  FOREIGN KEY (account_number) REFERENCES account (account_number),\n",
      "  FOREIGN KEY (customer_name) REFERENCES customer (customer_name),\n",
      "  PRIMARY KEY (customer_name, account_number)\n",
      "): 0\n",
      "number of rows affected by statement CREATE TABLE loan (\n",
      "  loan_number varchar(255) PRIMARY KEY,\n",
      "  branch_name varchar(255),\n",
      "  amount float CHECK(amount >= 0),\n",
      "  FOREIGN KEY (branch_name) REFERENCES branch (branch_name)\n",
      "): 0\n",
      "number of rows affected by statement CREATE TABLE borrower (\n",
      "  customer_name varchar(255),\n",
      "  loan_number varchar(255),\n",
      "  PRIMARY KEY (customer_name, loan_number),\n",
      "  FOREIGN KEY (customer_name) REFERENCES customer (customer_name),\n",
      "  FOREIGN KEY (loan_number) REFERENCES loan (loan_number)\n",
      "): 0\n"
     ]
    }
   ],
   "source": [
    "conn = mysql.connector.connect(host=config.HOST,\n",
    "                               user=config.USER, \n",
    "                               password=config.PASS)\n",
    "\n",
    "print(conn.is_connected())\n",
    "\n",
    "batch_execute_ddl(conn, 'bankdb.sql')"
   ]
  },
  {
   "cell_type": "markdown",
   "id": "fbe3c2df-2ea7-45e2-941c-295fe7da8b36",
   "metadata": {},
   "source": [
    "# Question 1\n",
    "In a Jupyter Notebook, write code either in Python, Java or C to connect to your AWS RDS\n",
    "instance and insert the data from each of the CSV files into the RDS database that you created on AWS on\n",
    "Activity 1. Display the number of rows affected for each table (1 cumulative count for all inserts per table).\n",
    "(Hint: If your data types do not match the given data, you may use the following SQL statement to update\n",
    "your data types: ALTER TABLE table_name MODIFY column_name NEW_DATA_TYPE;)"
   ]
  },
  {
   "cell_type": "code",
   "execution_count": 10,
   "id": "8d776d96-e19f-42ec-afe3-5c4f0bcad195",
   "metadata": {},
   "outputs": [
    {
     "name": "stdout",
     "output_type": "stream",
     "text": [
      "['depositor', 'loan', 'branch', 'customer', 'borrower', 'account']\n"
     ]
    }
   ],
   "source": [
    "path = \"csvs/\"\n",
    "tables = os.listdir(\"csvs/\") \n",
    "\n",
    "keys = [os.path.splitext(table)[0] for table in tables]\n",
    "print(keys)"
   ]
  },
  {
   "cell_type": "code",
   "execution_count": 11,
   "id": "0a71a95f-e2fd-470b-a76e-36552f9fa5e7",
   "metadata": {
    "tags": []
   },
   "outputs": [
    {
     "name": "stdout",
     "output_type": "stream",
     "text": [
      "dict_keys(['depositor', 'loan', 'branch', 'customer', 'borrower', 'account'])\n"
     ]
    }
   ],
   "source": [
    "d = dict.fromkeys(keys)\n",
    "# print(d)\n",
    "for key in keys:\n",
    "    with open((path+key+'.csv'), newline='') as file:\n",
    "        reader = csv.reader(file, delimiter=',')\n",
    "        #ignore the column name\n",
    "        next(reader)\n",
    "        \n",
    "        rows = []\n",
    "        for row in reader:\n",
    "            rows.append(tuple(row))\n",
    "            \n",
    "        d[key] = rows\n",
    "\n",
    "print(d.keys())\n",
    "\n",
    "                "
   ]
  },
  {
   "cell_type": "code",
   "execution_count": 12,
   "id": "32331acb-513e-40b9-805b-e5f6d0858244",
   "metadata": {},
   "outputs": [],
   "source": [
    "customer_insert = \"\"\"insert into customer\n",
    "                  (customer_name, customer_street, customer_city)\n",
    "                  values(%s, %s, %s);\"\"\"\n",
    "\n",
    "branch_insert =  \"\"\"insert into branch\n",
    "                 (branch_name, branch_city, assets) \n",
    "                 values(%s, %s, %s);\"\"\"\n",
    "\n",
    "account_insert = \"\"\"insert into account\n",
    "                    (account_number, branch_name, balance)\n",
    "                    values(%s, %s, %s);\"\"\"\n",
    "\n",
    "depositor_insert = \"\"\"insert into depositor\n",
    "                    (customer_name, account_number)\n",
    "                    values(%s, %s);\"\"\"\n",
    "\n",
    "loan_insert = \"\"\"insert into loan\n",
    "                (loan_number, branch_name, amount)\n",
    "                values(%s, %s, %s);\"\"\"\n",
    "\n",
    "borrower_insert = \"\"\"insert into borrower\n",
    "                    (customer_name, loan_number)\n",
    "                    values(%s, %s);\"\"\"\n"
   ]
  },
  {
   "cell_type": "code",
   "execution_count": 13,
   "id": "a5b1a2be-3488-4ab1-b88e-b82c4c17571f",
   "metadata": {},
   "outputs": [],
   "source": [
    "conn = mysql.connector.connect(host=config.HOST,\n",
    "                               user=config.USER, \n",
    "                               password=config.PASS,\n",
    "                               database=config.MYDB)\n"
   ]
  },
  {
   "cell_type": "code",
   "execution_count": 14,
   "id": "125cc7cd-9c74-4a73-88ae-c41bf120b72f",
   "metadata": {},
   "outputs": [
    {
     "name": "stdout",
     "output_type": "stream",
     "text": [
      "Rows affected:  9 \n",
      "Data inserted successfully\n"
     ]
    }
   ],
   "source": [
    "insert_data(branch_insert, d['branch'], conn)\n"
   ]
  },
  {
   "cell_type": "code",
   "execution_count": 15,
   "id": "e6ea96c4-addf-4b5f-ae54-b25375dd73c7",
   "metadata": {},
   "outputs": [
    {
     "name": "stdout",
     "output_type": "stream",
     "text": [
      "Rows affected:  15 \n",
      "Data inserted successfully\n"
     ]
    }
   ],
   "source": [
    "insert_data(customer_insert, d['customer'], conn)"
   ]
  },
  {
   "cell_type": "code",
   "execution_count": 16,
   "id": "5d0c02e5-3175-4aa5-b792-569c4de6eb53",
   "metadata": {},
   "outputs": [
    {
     "name": "stdout",
     "output_type": "stream",
     "text": [
      "Rows affected:  9 \n",
      "Data inserted successfully\n"
     ]
    }
   ],
   "source": [
    "insert_data(account_insert, d['account'], conn)"
   ]
  },
  {
   "cell_type": "code",
   "execution_count": 17,
   "id": "6566df9d-5fe8-4622-8e18-9d65ffdaf4dc",
   "metadata": {},
   "outputs": [
    {
     "name": "stdout",
     "output_type": "stream",
     "text": [
      "Rows affected:  10 \n",
      "Data inserted successfully\n"
     ]
    }
   ],
   "source": [
    "insert_data(depositor_insert, d['depositor'], conn)"
   ]
  },
  {
   "cell_type": "code",
   "execution_count": 18,
   "id": "2d05a08f-ec2b-46d6-b826-668011d60282",
   "metadata": {},
   "outputs": [
    {
     "name": "stdout",
     "output_type": "stream",
     "text": [
      "Rows affected:  9 \n",
      "Data inserted successfully\n"
     ]
    }
   ],
   "source": [
    "insert_data(loan_insert, d['loan'], conn)"
   ]
  },
  {
   "cell_type": "code",
   "execution_count": 19,
   "id": "dcbf555e-d32b-4bc2-b23b-36e6414434f0",
   "metadata": {},
   "outputs": [
    {
     "name": "stdout",
     "output_type": "stream",
     "text": [
      "Rows affected:  10 \n",
      "Data inserted successfully\n"
     ]
    }
   ],
   "source": [
    "insert_data(borrower_insert, d['borrower'], conn)\n"
   ]
  },
  {
   "cell_type": "markdown",
   "id": "ef77883d-d32b-41d5-a8ee-1469168747a8",
   "metadata": {},
   "source": [
    "# Question 2\n",
    "Write code to issue queries on your database and display your results for the following scenarios. **Make sure to print out a tabulation of your branch table ordered by assets in descending order to show the data before and after the changes.**\n",
    "\n",
    "\n",
    "A branch of the bank is considered a large branch if it has assets >= 3 million dollars. Imagine that COVID19 affected the bank terribly and the branches with assets >= 3 million dollars had to liquidate 12.5% of\n",
    "their assets to help the smaller branches (branches with assets < 3 million dollars).\n",
    "\n",
    "\n",
    "### (a) Issue a query that returns the total amount to be liquidated"
   ]
  },
  {
   "cell_type": "code",
   "execution_count": 20,
   "id": "51720f68-bc95-429d-83c9-49a6b031b42b",
   "metadata": {},
   "outputs": [
    {
     "name": "stdout",
     "output_type": "stream",
     "text": [
      "2337500.0\n"
     ]
    }
   ],
   "source": [
    "query = \"select sum(assets*0.125) from branch where (assets >= 3000000);\"\n",
    "\n",
    "result = fetch(query, conn)[0][0]\n",
    "print(result)"
   ]
  },
  {
   "cell_type": "markdown",
   "id": "9ebf2350-869c-42b4-8f45-0d9d325d5082",
   "metadata": {},
   "source": [
    "### (b) Issue an update query that reduces the assets for the large branches by the liquidation formula above."
   ]
  },
  {
   "cell_type": "markdown",
   "id": "2abc236b-313a-4aa8-b0cb-4c88f533c2c4",
   "metadata": {},
   "source": [
    "### Before"
   ]
  },
  {
   "cell_type": "code",
   "execution_count": 21,
   "id": "3ed303ae-aacb-4ddf-9216-f2ee2f8e4305",
   "metadata": {},
   "outputs": [
    {
     "name": "stdout",
     "output_type": "stream",
     "text": [
      "branch_name         branch_city         assets              \n",
      "Round Hill          Horseneck           8000000.0           \n",
      "Brighton            Brooklyn            7000000.0           \n",
      "North Town          Rye                 3700000.0           \n",
      "Redwood             Palo Alto           2100000.0           \n",
      "Perryridge          Horseneck           1700000.0           \n",
      "Downtown            Brooklyn            900000.0            \n",
      "Central             Rye                 400280.0            \n",
      "Mianus              Horseneck           400200.0            \n",
      "Pownal              Bennington          400000.0            \n"
     ]
    }
   ],
   "source": [
    "showquery = \"select * from branch order by assets desc;\"\n",
    "display(showquery, conn)"
   ]
  },
  {
   "cell_type": "markdown",
   "id": "431c1cd6-9ef4-4ead-aae1-623bc3fd1311",
   "metadata": {},
   "source": [
    "### After"
   ]
  },
  {
   "cell_type": "code",
   "execution_count": 22,
   "id": "12e1d8f3-6875-454d-9316-28f16f4be764",
   "metadata": {},
   "outputs": [
    {
     "name": "stdout",
     "output_type": "stream",
     "text": [
      "branch_name         branch_city         assets              \n",
      "Round Hill          Horseneck           7000000.0           \n",
      "Brighton            Brooklyn            6125000.0           \n",
      "North Town          Rye                 3237500.0           \n",
      "Redwood             Palo Alto           2100000.0           \n",
      "Perryridge          Horseneck           1700000.0           \n",
      "Downtown            Brooklyn            900000.0            \n",
      "Central             Rye                 400280.0            \n",
      "Mianus              Horseneck           400200.0            \n",
      "Pownal              Bennington          400000.0            \n"
     ]
    }
   ],
   "source": [
    "query = \"update branch set assets = assets*(1-0.125) where (assets >= 3000000);\"\n",
    "\n",
    "update(query, conn)\n",
    "\n",
    "showquery = \"select * from branch order by assets desc;\"\n",
    "\n",
    "display(showquery, conn)\n"
   ]
  },
  {
   "cell_type": "markdown",
   "id": "1fb9862d-b02d-4e69-a5bc-9812940a1f0c",
   "metadata": {},
   "source": [
    "### (c) Issue an update query that divides equally the total amount liquidated among the small branches."
   ]
  },
  {
   "cell_type": "markdown",
   "id": "86f0d631-7bef-40b2-8def-3335dfdf50dd",
   "metadata": {},
   "source": [
    "### Before"
   ]
  },
  {
   "cell_type": "code",
   "execution_count": 23,
   "id": "ee13045d-ce57-464f-9ffc-bc53c03e5b8d",
   "metadata": {},
   "outputs": [
    {
     "name": "stdout",
     "output_type": "stream",
     "text": [
      "branch_name         branch_city         assets              \n",
      "Round Hill          Horseneck           7000000.0           \n",
      "Brighton            Brooklyn            6125000.0           \n",
      "North Town          Rye                 3237500.0           \n",
      "Redwood             Palo Alto           2100000.0           \n",
      "Perryridge          Horseneck           1700000.0           \n",
      "Downtown            Brooklyn            900000.0            \n",
      "Central             Rye                 400280.0            \n",
      "Mianus              Horseneck           400200.0            \n",
      "Pownal              Bennington          400000.0            \n"
     ]
    }
   ],
   "source": [
    "showquery = \"select * from branch order by assets desc;\"\n",
    "\n",
    "display(showquery, conn)"
   ]
  },
  {
   "cell_type": "markdown",
   "id": "8f0e8ef1-dc69-4a37-b1d3-9b8ca6de4a34",
   "metadata": {},
   "source": [
    "### After"
   ]
  },
  {
   "cell_type": "code",
   "execution_count": 24,
   "id": "7c6fa224-0469-43b8-861d-fd28a69e6c12",
   "metadata": {},
   "outputs": [
    {
     "name": "stdout",
     "output_type": "stream",
     "text": [
      "branch_name         branch_city         assets              \n",
      "Round Hill          Horseneck           7000000.0           \n",
      "Brighton            Brooklyn            6125000.0           \n",
      "North Town          Rye                 3237500.0           \n",
      "Redwood             Palo Alto           2489580.0           \n",
      "Perryridge          Horseneck           2089580.0           \n",
      "Downtown            Brooklyn            1289580.0           \n",
      "Central             Rye                 789863.0            \n",
      "Mianus              Horseneck           789783.0            \n",
      "Pownal              Bennington          789583.0            \n"
     ]
    }
   ],
   "source": [
    "#-- (select sum(assets*0.125) as liquid from branch where assets >= 3000000) T,\n",
    "query = \"\"\"update branch,  \n",
    "           (select count(*) as total from branch where assets < 3000000) T2\n",
    "           set assets = ( %s / T2.total ) + assets\n",
    "           where (assets < 3000000)\n",
    "           \"\"\"\n",
    "        \n",
    "try:\n",
    "    cursor = conn.cursor()\n",
    "    cursor.execute(query % result)\n",
    "\n",
    "    conn.commit()\n",
    "except mysql.connector.Error as error:\n",
    "    print(error)\n",
    "    conn.rollback()\n",
    "\n",
    "showquery = \"select * from branch order by assets desc;\"\n",
    "\n",
    "display(showquery, conn)"
   ]
  },
  {
   "cell_type": "markdown",
   "id": "d0eca0a3-d1da-4c0e-8bc4-b9abbe9eeab5",
   "metadata": {},
   "source": [
    "### (d) Display a tabulation showing the customer_name, customer_city, and account_number of all customers who are members of a small branch. Include the branch_name and assets in your results and order your results by assets in descending order"
   ]
  },
  {
   "cell_type": "code",
   "execution_count": 25,
   "id": "72151a1b-218b-4cee-8e10-7838a0ae3d12",
   "metadata": {},
   "outputs": [
    {
     "name": "stdout",
     "output_type": "stream",
     "text": [
      "customer_name       customer_city       account_number      branch_name         assets              \n",
      "Majeris             Rye                 A-333               Central             789863.0            \n",
      "Hayes               Harrison            A-101               Downtown            1289580.0           \n",
      "Johnson             Palo Alto           A-101               Downtown            1289580.0           \n",
      "Smith               Rye                 A-215               Mianus              789783.0            \n",
      "Hayes               Harrison            A-102               Perryridge          2089580.0           \n",
      "Johnson             Palo Alto           A-201               Perryridge          2089580.0           \n",
      "Lindsay             Pittsfield          A-222               Redwood             2489580.0           \n"
     ]
    }
   ],
   "source": [
    "query = \"\"\"select customer_name, customer_city, account_number, branch_name, assets from \n",
    "                (customer C \n",
    "                natural join\n",
    "                depositor D)\n",
    "                natural join\n",
    "                (account A\n",
    "                natural join \n",
    "                branch B)\n",
    "                where assets < 3000000\n",
    "                \"\"\"\n",
    "table = fetch(query, conn)\n",
    "# print(table)\n",
    "print(\"{0:20}{1:20}{2:20}{3:20}{4:20}\".format(\"customer_name\",\"customer_city\",\"account_number\", \"branch_name\", \"assets\"))\n",
    "for (customer_name,customer_city,account_number, branch_name, assets) in table:\n",
    "    # for value in entry:\n",
    "        # print(\"{0:20}\".format(value))\n",
    "    print(\"{0:20}{1:20}{2:20}{3:20}{4:<20}\".format(customer_name,customer_city,account_number, branch_name, assets))\n"
   ]
  },
  {
   "cell_type": "code",
   "execution_count": 20,
   "id": "495ae556-2ef1-4d97-828d-666894c9989f",
   "metadata": {},
   "outputs": [],
   "source": [
    "conn.close()"
   ]
  },
  {
   "cell_type": "code",
   "execution_count": null,
   "id": "5da72cff-3dab-4338-9d82-0c052b3b0088",
   "metadata": {},
   "outputs": [],
   "source": []
  }
 ],
 "metadata": {
  "kernelspec": {
   "display_name": "Python 3 (ipykernel)",
   "language": "python",
   "name": "python3"
  },
  "language_info": {
   "codemirror_mode": {
    "name": "ipython",
    "version": 3
   },
   "file_extension": ".py",
   "mimetype": "text/x-python",
   "name": "python",
   "nbconvert_exporter": "python",
   "pygments_lexer": "ipython3",
   "version": "3.9.12"
  }
 },
 "nbformat": 4,
 "nbformat_minor": 5
}
