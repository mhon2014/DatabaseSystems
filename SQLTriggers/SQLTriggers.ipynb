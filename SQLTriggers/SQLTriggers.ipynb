{
 "cells": [
  {
   "cell_type": "code",
   "execution_count": 1,
   "id": "d6a00348-2588-4a9d-99e3-502a5dcd6ff6",
   "metadata": {
    "tags": []
   },
   "outputs": [],
   "source": [
    "import config\n",
    "import mysql.connector\n",
    "from IPython.display import display, Markdown\n",
    "import csv\n",
    "import os"
   ]
  },
  {
   "cell_type": "markdown",
   "id": "2d4949e9-4cfc-4278-82b9-c55d0b69addb",
   "metadata": {
    "tags": []
   },
   "source": [
    "### Helper Functions"
   ]
  },
  {
   "cell_type": "code",
   "execution_count": 2,
   "id": "d9096325-69af-4c0f-95ab-d4b2242568b8",
   "metadata": {
    "tags": []
   },
   "outputs": [],
   "source": [
    "def batch_execute_ddl(conn, file):\n",
    "    cursor = conn.cursor()\n",
    "    ddl_file = open(file)\n",
    "    sql = ddl_file.read()\n",
    "    \n",
    "    # print(sql)\n",
    "    # multi = True for multple statements\n",
    "    # cursor.execute(sql, multi=True)\n",
    "    for result in cursor.execute(sql, multi=True):\n",
    "        if result.with_rows:\n",
    "            print(f\"Rows produced: {result.statement}\")\n",
    "            print(result.fetchall())\n",
    "        else: \n",
    "            print(f\"number of rows affected by statement {result.statement}: {result.rowcount}\")\n",
    "    \n",
    "    conn.close()\n",
    "    \n",
    "def insert_data(command, data, conn):\n",
    "    try:\n",
    "        # Connecting to the Database \n",
    "        # print(data)\n",
    "        cursor = conn.cursor()\n",
    "        cursor.executemany(command, data) \n",
    "        \n",
    "        conn.commit()\n",
    "        print(\"Rows affected: \",cursor.rowcount, \"\\nData inserted successfully\")\n",
    "\n",
    "    except mysql.connector.Error as error:\n",
    "        print(error)\n",
    "        conn.rollback()\n",
    "\n",
    "        \n",
    "def fetch(query, conn):\n",
    "    cursor = conn.cursor()\n",
    "    cursor.execute(query)\n",
    "    result = cursor.fetchall()\n",
    "    return result\n",
    "    # print(\"Result:\", result)\n",
    "    \n",
    "# def update(query\n",
    "\n",
    "def update(query, conn, arg = None, multiflag = False):\n",
    "    try:\n",
    "        cursor = conn.cursor()\n",
    "        if(multiflag == False):\n",
    "            if (arg != None):\n",
    "                cursor.execute(query % arg)\n",
    "            else:\n",
    "                cursor.execute(query)  \n",
    "        elif(multiflag):\n",
    "            if (arg != None):\n",
    "                cursor.execute(query % arg, multi = True)\n",
    "            else:\n",
    "                cursor.execute(query, multi = True)\n",
    "            \n",
    "        result = cursor.fetchall()\n",
    "        # print(\"Result:\", result)\n",
    "        \n",
    "        conn.commit()\n",
    "    except mysql.connector.Error as error:\n",
    "        print(error)\n",
    "        conn.rollback()\n",
    "        \n",
    "def display(showquery, conn):\n",
    "    table = fetch(showquery, conn)\n",
    "    print(\"{0:20}{1:20}{2:20}\".format(\"branch_name\",\"branch_city\",\"assets\"))\n",
    "    for (branch_name, branch_city, assets) in table:\n",
    "        print(\"{0:20}{1:20}{2:<20}\".format(branch_name, branch_city, assets))\n",
    "        \n",
    "    # fetch(showquery, conn)\n",
    "    \n",
    "    \n",
    "    \n"
   ]
  },
  {
   "cell_type": "code",
   "execution_count": 3,
   "id": "dedb461b-5597-4fa2-85d2-2ac1e5e28d4b",
   "metadata": {
    "collapsed": true,
    "jupyter": {
     "outputs_hidden": true
    },
    "tags": []
   },
   "outputs": [
    {
     "name": "stdout",
     "output_type": "stream",
     "text": [
      "True\n",
      "number of rows affected by statement drop database bankdb: 6\n",
      "number of rows affected by statement create database if not exists bankdb: 1\n",
      "number of rows affected by statement USE bankdb: 0\n",
      "number of rows affected by statement CREATE TABLE branch (\n",
      "  branch_name varchar(255) PRIMARY KEY,\n",
      "  branch_city varchar(255),\n",
      "  assets decimal (12,2)\n",
      "): 0\n",
      "number of rows affected by statement CREATE TABLE customer (\n",
      "  customer_name varchar(255) PRIMARY KEY,\n",
      "  customer_street varchar(255),\n",
      "  customer_city varchar(255)\n",
      "): 0\n",
      "number of rows affected by statement CREATE TABLE account (\n",
      "  account_number varchar(255) PRIMARY KEY,\n",
      "  branch_name varchar(255),\n",
      "  balance decimal (12,2) CHECK(balance >= 0),\n",
      "  FOREIGN KEY (branch_name) REFERENCES branch (branch_name)\n",
      "): 0\n",
      "number of rows affected by statement CREATE TABLE depositor (\n",
      "  customer_name varchar(255),\n",
      "  account_number varchar(255),\n",
      "  FOREIGN KEY (account_number) REFERENCES account (account_number),\n",
      "  FOREIGN KEY (customer_name) REFERENCES customer (customer_name),\n",
      "  PRIMARY KEY (customer_name, account_number)\n",
      "): 0\n",
      "number of rows affected by statement CREATE TABLE loan (\n",
      "  loan_number varchar(255) PRIMARY KEY,\n",
      "  branch_name varchar(255),\n",
      "  amount decimal (12,2) CHECK(amount >= 0),\n",
      "  FOREIGN KEY (branch_name) REFERENCES branch (branch_name)\n",
      "): 0\n",
      "number of rows affected by statement CREATE TABLE borrower (\n",
      "  customer_name varchar(255),\n",
      "  loan_number varchar(255),\n",
      "  PRIMARY KEY (customer_name, loan_number),\n",
      "  FOREIGN KEY (customer_name) REFERENCES customer (customer_name),\n",
      "  FOREIGN KEY (loan_number) REFERENCES loan (loan_number)\n",
      "): 0\n"
     ]
    }
   ],
   "source": [
    "conn = mysql.connector.connect(host=config.HOST,\n",
    "                               user=config.USER, \n",
    "                               password=config.PASS)\n",
    "\n",
    "print(conn.is_connected())\n",
    "\n",
    "batch_execute_ddl(conn, 'bankdb.sql')"
   ]
  },
  {
   "cell_type": "code",
   "execution_count": 4,
   "id": "a5b1a2be-3488-4ab1-b88e-b82c4c17571f",
   "metadata": {
    "collapsed": true,
    "jupyter": {
     "outputs_hidden": true
    },
    "tags": []
   },
   "outputs": [
    {
     "name": "stdout",
     "output_type": "stream",
     "text": [
      "Rows affected:  9 \n",
      "Data inserted successfully\n",
      "Rows affected:  15 \n",
      "Data inserted successfully\n",
      "Rows affected:  9 \n",
      "Data inserted successfully\n",
      "Rows affected:  10 \n",
      "Data inserted successfully\n",
      "Rows affected:  9 \n",
      "Data inserted successfully\n",
      "Rows affected:  10 \n",
      "Data inserted successfully\n"
     ]
    }
   ],
   "source": [
    "path = \"activity2_csvs/\"\n",
    "tables = os.listdir(\"activity2_csvs/\") \n",
    "\n",
    "keys = [os.path.splitext(table)[0] for table in tables]\n",
    "\n",
    "d = dict.fromkeys(keys)\n",
    "# print(d)\n",
    "for key in keys:\n",
    "    with open((path+key+'.csv'), newline='') as file:\n",
    "        reader = csv.reader(file, delimiter=',')\n",
    "        #ignore the column name\n",
    "        next(reader)\n",
    "        \n",
    "        rows = []\n",
    "        for row in reader:\n",
    "            rows.append(tuple(row))\n",
    "            \n",
    "        d[key] = rows\n",
    "\n",
    "\n",
    "customer_insert = \"\"\"insert into customer\n",
    "                  (customer_name, customer_street, customer_city)\n",
    "                  values(%s, %s, %s);\"\"\"\n",
    "\n",
    "branch_insert =  \"\"\"insert into branch\n",
    "                 (branch_name, branch_city, assets) \n",
    "                 values(%s, %s, %s);\"\"\"\n",
    "\n",
    "account_insert = \"\"\"insert into account\n",
    "                    (account_number, branch_name, balance)\n",
    "                    values(%s, %s, %s);\"\"\"\n",
    "\n",
    "depositor_insert = \"\"\"insert into depositor\n",
    "                    (customer_name, account_number)\n",
    "                    values(%s, %s);\"\"\"\n",
    "\n",
    "loan_insert = \"\"\"insert into loan\n",
    "                (loan_number, branch_name, amount)\n",
    "                values(%s, %s, %s);\"\"\"\n",
    "\n",
    "borrower_insert = \"\"\"insert into borrower\n",
    "                    (customer_name, loan_number)\n",
    "                    values(%s, %s);\"\"\"\n",
    "\n",
    "\n",
    "conn = mysql.connector.connect(host=config.HOST,\n",
    "                               user=config.USER, \n",
    "                               password=config.PASS,\n",
    "                               database=config.MYDB)\n",
    "\n",
    "insert_data(branch_insert, d['branch'], conn)\n",
    "insert_data(customer_insert, d['customer'], conn)\n",
    "insert_data(account_insert, d['account'], conn)\n",
    "insert_data(depositor_insert, d['depositor'], conn)\n",
    "insert_data(loan_insert, d['loan'], conn)\n",
    "insert_data(borrower_insert, d['borrower'], conn)\n",
    "\n",
    "query = \"select sum(assets*0.125) from branch where (assets >= 3000000);\"\n",
    "\n",
    "result = fetch(query, conn)[0][0]\n",
    "\n",
    "query = \"update branch set assets = assets*(1-0.125) where (assets >= 3000000);\"\n",
    "\n",
    "update(query, conn)\n",
    "# conn.cursor().execute(query)\n",
    "# conn.commit()\n",
    "\n",
    "query = \"\"\"update branch,  \n",
    "           (select count(*) as total from branch where assets < 3000000) T2\n",
    "           set assets = ( %s / T2.total ) + assets\n",
    "           where (assets < 3000000)\n",
    "           \"\"\"\n",
    "# conn.cursor().execute(query % result)\n",
    "# conn.commit()\n",
    "update(query, conn, result)\n",
    "\n",
    "conn.close()\n",
    "\n",
    "# showquery = \"select * from branch order by assets desc;\"\n",
    "\n",
    "# display(showquery, conn)"
   ]
  },
  {
   "cell_type": "markdown",
   "id": "fbe3c2df-2ea7-45e2-941c-295fe7da8b36",
   "metadata": {
    "tags": []
   },
   "source": [
    "# Activity 3\n",
    " Imagine that the bank has received a portion of a government bailout totaling 10 million dollars. One requirement for\n",
    "banks receiving this bailout money is that they remain their current size (i.e., large branches are branches with assets\n",
    "\\>= 3 million dollars and small branches have assets < 3 million dollars).The CEO of the bank, Nate Richmond, would\n",
    "like to divide this bailout money equally among the small branches at the bank.\n",
    "In a Jupyter Notebook, write code in Python, Java or C (or a language that works in Jupyter) to help DBA Christopher\n",
    "Hemsworth complete the following:"
   ]
  },
  {
   "cell_type": "code",
   "execution_count": 5,
   "id": "6ebb2fd2-b1c1-4413-81e2-47d8837b684c",
   "metadata": {},
   "outputs": [],
   "source": [
    "conn = mysql.connector.connect(host=config.HOST,\n",
    "                               user=config.USER, \n",
    "                               password=config.PASS,\n",
    "                               database=config.MYDB)"
   ]
  },
  {
   "cell_type": "markdown",
   "id": "5037612c-7ab9-474f-9712-879f98ba2549",
   "metadata": {},
   "source": [
    "## a\n",
    "Execute a single query to return and print out the total assets owned by the bank ( i.e., a cumulative total of the assets at all branches)"
   ]
  },
  {
   "cell_type": "code",
   "execution_count": 6,
   "id": "08e6e47d-23c1-453c-ac16-61aa2f2d8b6d",
   "metadata": {},
   "outputs": [
    {
     "name": "stdout",
     "output_type": "stream",
     "text": [
      "Total assets owned by the bank:  24600479.98\n"
     ]
    }
   ],
   "source": [
    "query = \"SELECT SUM(assets) FROM branch;\"\n",
    "\n",
    "result = fetch(query, conn)[0][0]\n",
    "print(\"Total assets owned by the bank: \", result)"
   ]
  },
  {
   "cell_type": "markdown",
   "id": "e6740fc1-146d-4cd2-a22e-763bfdc3f32a",
   "metadata": {},
   "source": [
    "## b\n",
    "Create a trigger named maintain_branch_size on your branch table that ensures that a small\n",
    "branch does not become a large branch (i.e., that its total assets never gets to 3 million dollars). Whenever an\n",
    "update to the assets of a small branch is attempted that would cause it to become a large branch, your trigger\n",
    "should store this excess money in a table (e.g. bailout_cache) to be later divided equally among the existing\n",
    "large branches, capping the small branch at 2,999,999 in total assets."
   ]
  },
  {
   "cell_type": "code",
   "execution_count": 7,
   "id": "1365bad8-2559-4b54-a90e-a126a8114560",
   "metadata": {
    "tags": []
   },
   "outputs": [],
   "source": [
    "# DECLARE  bailout FLOAT(12,2) DEFAULT 0;\n",
    "# INSERT bailout_cache (amount) VALUES (NEW.assets - 2999999);\n",
    "#AND NEW.assets > 3000000 \n",
    "\n",
    "                 # IF NEW.assets > 3000000 THEN\n",
    "                 #     END IF;\n",
    "\n",
    "table = \"\"\"create table if not exists bailout_cache(amount float(12,2));\"\"\"\n",
    "\n",
    "update(table,conn)\n",
    "\n",
    "trigger = \"\"\"create trigger maintain_branch_size before update on branch\n",
    "            for each row\n",
    "            begin\n",
    "            DECLARE m float default 2999999.99;\n",
    "            if (new.assets > m and old.assets <= m) then\n",
    "            insert into bailout_cache values(new.assets-m);\n",
    "            set new.assets = m;\n",
    "            end if;\n",
    "            end;\n",
    "            \"\"\"\n",
    "\n",
    "update(trigger,conn)"
   ]
  },
  {
   "cell_type": "markdown",
   "id": "63c4634d-ca20-4f97-b20c-6bba08578a2c",
   "metadata": {
    "tags": []
   },
   "source": [
    "## c\n",
    "Execute a query that attempts to divide the bailout money among the small branches as a test of\n",
    "your trigger."
   ]
  },
  {
   "cell_type": "code",
   "execution_count": 8,
   "id": "62e5c835-c717-43bb-83c7-c46053b2351c",
   "metadata": {
    "tags": []
   },
   "outputs": [
    {
     "name": "stdout",
     "output_type": "stream",
     "text": [
      "BEFORE:\n",
      "branch_name         branch_city         assets              \n",
      "Round Hill          Horseneck           7000000.00          \n",
      "Brighton            Brooklyn            6125000.00          \n",
      "North Town          Rye                 3237500.00          \n",
      "Redwood             Palo Alto           2489583.33          \n",
      "Perryridge          Horseneck           2089583.33          \n",
      "Downtown            Brooklyn            1289583.33          \n",
      "Central             Rye                 789863.33           \n",
      "Mianus              Horseneck           789783.33           \n",
      "Pownal              Bennington          789583.33           \n",
      "\n",
      "\n",
      "AFTER:\n",
      "branch_name         branch_city         assets              \n",
      "Round Hill          Horseneck           7000000.00          \n",
      "Brighton            Brooklyn            6125000.00          \n",
      "North Town          Rye                 3237500.00          \n",
      "Perryridge          Horseneck           3000000.00          \n",
      "Redwood             Palo Alto           3000000.00          \n",
      "Downtown            Brooklyn            2956250.00          \n",
      "Central             Rye                 2456530.00          \n",
      "Mianus              Horseneck           2456450.00          \n",
      "Pownal              Bennington          2456250.00          \n"
     ]
    }
   ],
   "source": [
    "query = \"\"\"update branch,  \n",
    "           (select count(*) as total from branch where assets < 3000000) small_branches\n",
    "           set assets = ( 10000000 / small_branches.total ) + assets\n",
    "           where (assets < 3000000)\n",
    "           \"\"\"\n",
    "\n",
    "print(\"BEFORE:\")\n",
    "display(\"select * FROM branch order by assets desc;\", conn)\n",
    "\n",
    "print(\"\\n\")\n",
    "\n",
    "update(query, conn)\n",
    "\n",
    "\n",
    "print(\"AFTER:\")\n",
    "display(\"select * from branch order by assets desc;\", conn)"
   ]
  },
  {
   "cell_type": "markdown",
   "id": "b36e617b-e48a-492a-b75e-0bef29ab3a86",
   "metadata": {
    "tags": []
   },
   "source": [
    "## d\n",
    "Execute a query that divides any excess money from the bailout (money in your bailout_cache) among the large branches"
   ]
  },
  {
   "cell_type": "raw",
   "id": "d27cde18-dcd9-47a0-ba0c-fd6a0c24058f",
   "metadata": {},
   "source": [
    "print(\"Bailout_cache:\")\n",
    "table = fetch(\"select * from bailout_cache\", conn)\n",
    "# print(table)\n",
    "print(\"{0:20}\".format(\"amount\"))\n",
    "for i in table:\n",
    "    print(\"{0:<20}\".format(i[0]))\n",
    "    \n",
    "total = fetch(\"select sum(amount) from bailout_cache\", conn)[0][0]\n",
    "\n",
    "\n",
    "print(\"\\ntotal: {0:<20}\".format(total))\n",
    "\n",
    "print(\"To be divided: {}/3 = {}\".format(total, total/3))\n",
    "\n",
    "print(\"\\n\\n\")\n",
    "\n",
    "\n",
    "\n",
    "'''\n",
    "Queries below is shown before and after the updates\n",
    "'''\n",
    "\n",
    "\n",
    "\n",
    "query = \"\"\"update branch,  \n",
    "           (select count(*) as total from branch where assets > 3000000) large_branches,\n",
    "           (select sum(amount) as sum from bailout_cache) bailout\n",
    "           set assets = ( bailout.sum / large_branches.total ) + assets\n",
    "           where (assets > 3000000)\n",
    "           \"\"\"\n",
    "\n",
    "print(\"BEFORE:\")\n",
    "display(\"select * FROM branch order by assets desc;\", conn)\n",
    "\n",
    "\n",
    "print(\"\\n\")\n",
    "\n",
    "update(query, conn)\n",
    "\n",
    "\n",
    "print(\"AFTER:\")\n",
    "display(\"select * from branch order by assets desc;\", conn)\n",
    "\n",
    "#empty the bailout values after dividing it to the large branches\n",
    "deletevalues = \"truncate table bailout_cache\"\n",
    "update(deletevalues, conn)"
   ]
  },
  {
   "cell_type": "markdown",
   "id": "b30173c5-d422-4f5f-a221-13ada5b799c3",
   "metadata": {},
   "source": [
    "## e \n",
    "Execute a single query to return and print out the total assets owned by the bank ( i.e., a cumulative\n",
    "total of the assets at all branches) after all changes above has been made."
   ]
  },
  {
   "cell_type": "code",
   "execution_count": 10,
   "id": "a7fa11b4-4647-4995-b4bc-2e145dc48b10",
   "metadata": {},
   "outputs": [
    {
     "name": "stdout",
     "output_type": "stream",
     "text": [
      "Total assets owned by the bank:  34600480.00\n"
     ]
    }
   ],
   "source": [
    "cumulative = fetch(\"select sum(assets) from branch\", conn)[0][0]\n",
    "print(\"Total assets owned by the bank: \", cumulative)"
   ]
  },
  {
   "cell_type": "code",
   "execution_count": 11,
   "id": "4fff3fbc-e45d-4a11-9968-dddd368bcfff",
   "metadata": {},
   "outputs": [],
   "source": [
    "conn.close()"
   ]
  }
 ],
 "metadata": {
  "kernelspec": {
   "display_name": "Python 3 (ipykernel)",
   "language": "python",
   "name": "python3"
  },
  "language_info": {
   "codemirror_mode": {
    "name": "ipython",
    "version": 3
   },
   "file_extension": ".py",
   "mimetype": "text/x-python",
   "name": "python",
   "nbconvert_exporter": "python",
   "pygments_lexer": "ipython3",
   "version": "3.9.12"
  }
 },
 "nbformat": 4,
 "nbformat_minor": 5
}
